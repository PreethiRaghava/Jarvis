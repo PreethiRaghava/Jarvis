{
 "cells": [
  {
   "cell_type": "code",
   "execution_count": 72,
   "metadata": {
    "scrolled": true
   },
   "outputs": [
    {
     "name": "stdout",
     "output_type": "stream",
     "text": [
      "5\n",
      "['C:\\\\Users\\\\spsoft\\\\Documents\\\\New_folder(2)\\\\docs\\\\Anji Reddy Lingala_5+ Yrs_Data Scientist_Cyient_Hyd.docx', 'C:\\\\Users\\\\spsoft\\\\Documents\\\\New_folder(2)\\\\docs\\\\General_Purpose_Demo.docx', 'C:\\\\Users\\\\spsoft\\\\Documents\\\\New_folder(2)\\\\docs\\\\Kranthi_Resume.docx', 'C:\\\\Users\\\\spsoft\\\\Documents\\\\New_folder(2)\\\\docs\\\\Rack_Classification.docx', 'C:\\\\Users\\\\spsoft\\\\Documents\\\\New_folder(2)\\\\docs\\\\Vasanth_Resume.docx']\n",
      "['Anji Reddy Lingala_5+ Yrs_Data Scientist_Cyient_Hyd', 'General_Purpose_Demo', 'Kranthi_Resume', 'Rack_Classification', 'Vasanth_Resume']\n",
      "[27.37001258457478, 25.839164544799274, 25.623523472711522, 26.034525381180273, 25.335465109479195]\n"
     ]
    }
   ],
   "source": [
    "import textdistance as td\n",
    "import os\n",
    "import docx2txt, os\n",
    "from docx import Document\n",
    "\n",
    "resume = r'C:\\Users\\spsoft\\Documents\\New_folder(2)\\docs'\n",
    "# job_description = r\"C:\\Users\\spsoft\\Documents\\New folder (2)\\DS_jobdescription.docx\"\n",
    "job_description = docx2txt.process(r\"C:\\Users\\spsoft\\Documents\\New_folder(2)\\JD\\DS_jobdescription.docx\")\n",
    "# print(job_description)\n",
    "resumes = []\n",
    "docs_ = []\n",
    "for each in os.listdir(resume):\n",
    "    resumes.append(each)\n",
    "print(len(resumes))\n",
    "\n",
    "for each in os.listdir(resume):\n",
    "    docs = os.path.join(resume,each)\n",
    "    docs_.append(docs)\n",
    "print(docs_)\n",
    "\n",
    "\n",
    "for each in os.listdir(resume):\n",
    "    if each.endswith('.doc')  or each.endswith('.txt') or each.endswith('.pdf'):\n",
    "        candidate_names = [x[:-4] for x in os.listdir(resume)]\n",
    "        \n",
    "    elif each.endswith('.docx'):\n",
    "        candidate_names = [x[:-5] for x in os.listdir(resume)]\n",
    "print(candidate_names)\n",
    "\n",
    "def match(cv, job_description):\n",
    "    j = td.jaccard.similarity(cv, job_description)\n",
    "#     print(j)\n",
    "    s = td.sorensen_dice.similarity(cv, job_description)\n",
    "#     print(s)\n",
    "    c = td.cosine.similarity(cv, job_description)\n",
    "#     print(c)\n",
    "    o = td.overlap.normalized_similarity(cv, job_description)\n",
    "#     print(o)\n",
    "    total = (j+s+c+o)/4\n",
    "    print\n",
    "#     total = (s+o)/2\n",
    "#     print(total*100)\n",
    "    return total*100\n",
    "\n",
    "import textract\n",
    "n = 0\n",
    "y = []\n",
    "for (root,dirs,files) in os.walk(resume):\n",
    "    for files_ in files:\n",
    "        cv = resume + \"\\\\\" + docs_[n]\n",
    "        x = match(cv, job_description)\n",
    "        y.append(x)\n",
    "        n +=1\n",
    "print(y)"
   ]
  },
  {
   "cell_type": "code",
   "execution_count": 73,
   "metadata": {},
   "outputs": [],
   "source": [
    "import pandas as pd"
   ]
  },
  {
   "cell_type": "code",
   "execution_count": 74,
   "metadata": {},
   "outputs": [],
   "source": [
    "data = pd.DataFrame()"
   ]
  },
  {
   "cell_type": "code",
   "execution_count": 75,
   "metadata": {},
   "outputs": [
    {
     "data": {
      "text/html": [
       "<div>\n",
       "<style scoped>\n",
       "    .dataframe tbody tr th:only-of-type {\n",
       "        vertical-align: middle;\n",
       "    }\n",
       "\n",
       "    .dataframe tbody tr th {\n",
       "        vertical-align: top;\n",
       "    }\n",
       "\n",
       "    .dataframe thead th {\n",
       "        text-align: right;\n",
       "    }\n",
       "</style>\n",
       "<table border=\"1\" class=\"dataframe\">\n",
       "  <thead>\n",
       "    <tr style=\"text-align: right;\">\n",
       "      <th></th>\n",
       "      <th>Candidate Name</th>\n",
       "    </tr>\n",
       "  </thead>\n",
       "  <tbody>\n",
       "    <tr>\n",
       "      <th>0</th>\n",
       "      <td>Anji Reddy Lingala_5+ Yrs_Data Scientist_Cyien...</td>\n",
       "    </tr>\n",
       "    <tr>\n",
       "      <th>1</th>\n",
       "      <td>General_Purpose_Demo</td>\n",
       "    </tr>\n",
       "    <tr>\n",
       "      <th>2</th>\n",
       "      <td>Kranthi_Resume</td>\n",
       "    </tr>\n",
       "    <tr>\n",
       "      <th>3</th>\n",
       "      <td>Rack_Classification</td>\n",
       "    </tr>\n",
       "    <tr>\n",
       "      <th>4</th>\n",
       "      <td>Vasanth_Resume</td>\n",
       "    </tr>\n",
       "  </tbody>\n",
       "</table>\n",
       "</div>"
      ],
      "text/plain": [
       "                                      Candidate Name\n",
       "0  Anji Reddy Lingala_5+ Yrs_Data Scientist_Cyien...\n",
       "1                               General_Purpose_Demo\n",
       "2                                     Kranthi_Resume\n",
       "3                                Rack_Classification\n",
       "4                                     Vasanth_Resume"
      ]
     },
     "execution_count": 75,
     "metadata": {},
     "output_type": "execute_result"
    }
   ],
   "source": [
    "data[\"Candidate Name\"] = candidate_names\n",
    "data"
   ]
  },
  {
   "cell_type": "code",
   "execution_count": 77,
   "metadata": {},
   "outputs": [
    {
     "data": {
      "text/html": [
       "<div>\n",
       "<style scoped>\n",
       "    .dataframe tbody tr th:only-of-type {\n",
       "        vertical-align: middle;\n",
       "    }\n",
       "\n",
       "    .dataframe tbody tr th {\n",
       "        vertical-align: top;\n",
       "    }\n",
       "\n",
       "    .dataframe thead th {\n",
       "        text-align: right;\n",
       "    }\n",
       "</style>\n",
       "<table border=\"1\" class=\"dataframe\">\n",
       "  <thead>\n",
       "    <tr style=\"text-align: right;\">\n",
       "      <th></th>\n",
       "      <th>Candidate Name</th>\n",
       "      <th>Matching Percentage</th>\n",
       "    </tr>\n",
       "  </thead>\n",
       "  <tbody>\n",
       "    <tr>\n",
       "      <th>0</th>\n",
       "      <td>Anji Reddy Lingala_5+ Yrs_Data Scientist_Cyien...</td>\n",
       "      <td>27.370013</td>\n",
       "    </tr>\n",
       "    <tr>\n",
       "      <th>1</th>\n",
       "      <td>General_Purpose_Demo</td>\n",
       "      <td>25.839165</td>\n",
       "    </tr>\n",
       "    <tr>\n",
       "      <th>2</th>\n",
       "      <td>Kranthi_Resume</td>\n",
       "      <td>25.623523</td>\n",
       "    </tr>\n",
       "    <tr>\n",
       "      <th>3</th>\n",
       "      <td>Rack_Classification</td>\n",
       "      <td>26.034525</td>\n",
       "    </tr>\n",
       "    <tr>\n",
       "      <th>4</th>\n",
       "      <td>Vasanth_Resume</td>\n",
       "      <td>25.335465</td>\n",
       "    </tr>\n",
       "  </tbody>\n",
       "</table>\n",
       "</div>"
      ],
      "text/plain": [
       "                                      Candidate Name  Matching Percentage\n",
       "0  Anji Reddy Lingala_5+ Yrs_Data Scientist_Cyien...            27.370013\n",
       "1                               General_Purpose_Demo            25.839165\n",
       "2                                     Kranthi_Resume            25.623523\n",
       "3                                Rack_Classification            26.034525\n",
       "4                                     Vasanth_Resume            25.335465"
      ]
     },
     "execution_count": 77,
     "metadata": {},
     "output_type": "execute_result"
    }
   ],
   "source": [
    "data[\"Matching Percentage\"] = y\n",
    "data"
   ]
  },
  {
   "cell_type": "code",
   "execution_count": null,
   "metadata": {},
   "outputs": [],
   "source": []
  }
 ],
 "metadata": {
  "kernelspec": {
   "display_name": "Python 3",
   "language": "python",
   "name": "python3"
  },
  "language_info": {
   "codemirror_mode": {
    "name": "ipython",
    "version": 3
   },
   "file_extension": ".py",
   "mimetype": "text/x-python",
   "name": "python",
   "nbconvert_exporter": "python",
   "pygments_lexer": "ipython3",
   "version": "3.6.5"
  }
 },
 "nbformat": 4,
 "nbformat_minor": 2
}
